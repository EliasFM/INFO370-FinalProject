{
 "cells": [
  {
   "cell_type": "code",
   "execution_count": null,
   "metadata": {},
   "outputs": [],
   "source": [
    "# Import libraries\n",
    "import pandas as pd\n",
    "import numpy as np\n",
    "import matplotlib.pyplot as plt\n",
    "import seaborn as sns # for visualiation\n",
    "import scipy\n",
    "from datetime import datetime\n",
    "from sklearn.svm import SVC\n",
    "from sklearn.model_selection import StratifiedKFold\n",
    "from sklearn.feature_selection import RFECV\n",
    "from sklearn.datasets import make_classification\n",
    "import sklearn as sk\n",
    "from sklearn import ensemble\n",
    "from sklearn import metrics\n",
    "from sklearn.neural_network import MLPRegressor\n",
    "import matplotlib.patches as mpatches\n",
    "import warnings\n",
    "warnings.filterwarnings('ignore')\n",
    "pd.options.display.max_columns = None\n",
    "%matplotlib inline"
   ]
  },
  {
   "cell_type": "code",
   "execution_count": null,
   "metadata": {},
   "outputs": [],
   "source": [
    "result_states = pd.DataFrame(columns=['prediction','actual','state'])\n",
    "for st in range(51):\n",
    "    state_name = le.inverse_transform([st])\n",
    "    temp = df[df.state == st]\n",
    "#     temp[testing].reset_index(drop=True).plot(ax=curax)\n",
    "    temp_train = sk.preprocessing.scale(temp[training])\n",
    "    y_pred = rf.predict(temp_train)\n",
    "#     pd.DataFrame(y_pred).plot(ax=curax)\n",
    "    temp_save = pd.DataFrame(y_pred).join(temp[testing].reset_index(drop=True))\n",
    "    temp_save['state']=state_name[0]\n",
    "    temp_save.columns = ['prediction','actual','state']\n",
    "    result_states = result_states.append(temp_save,ignore_index=True)\n",
    "\n",
    "\n",
    "result_states.to_csv('./data/state_predictions.csv')"
   ]
  }
 ],
 "metadata": {
  "kernelspec": {
   "display_name": "Python 3",
   "language": "python",
   "name": "python3"
  },
  "language_info": {
   "codemirror_mode": {
    "name": "ipython",
    "version": 3
   },
   "file_extension": ".py",
   "mimetype": "text/x-python",
   "name": "python",
   "nbconvert_exporter": "python",
   "pygments_lexer": "ipython3",
   "version": "3.7.0"
  }
 },
 "nbformat": 4,
 "nbformat_minor": 2
}
