{
 "cells": [
  {
   "cell_type": "code",
   "execution_count": 32,
   "metadata": {},
   "outputs": [],
   "source": [
    "# Import libraries\n",
    "import pandas as pd\n",
    "import numpy as np\n",
    "import matplotlib.pyplot as plt\n",
    "import seaborn as sns # for visualiation\n",
    "from datetime import datetime\n"
   ]
  },
  {
   "cell_type": "code",
   "execution_count": 33,
   "metadata": {},
   "outputs": [],
   "source": [
    "\n",
    "# combined mass shooting data from 13-18\n",
    "mass_shoot_13_18 = pd.read_csv('./data/mass_shooting_data_13_18.csv')\n",
    "df= mass_shoot_13_18\n",
    "df = df.drop(['Operations'], axis=1)"
   ]
  },
  {
   "cell_type": "code",
   "execution_count": 34,
   "metadata": {},
   "outputs": [],
   "source": [
    "mass = df"
   ]
  },
  {
   "cell_type": "code",
   "execution_count": 35,
   "metadata": {},
   "outputs": [],
   "source": [
    "df = pd.read_csv('./data/gunsales_population.csv')"
   ]
  },
  {
   "cell_type": "code",
   "execution_count": 36,
   "metadata": {},
   "outputs": [
    {
     "data": {
      "text/html": [
       "<div>\n",
       "<style scoped>\n",
       "    .dataframe tbody tr th:only-of-type {\n",
       "        vertical-align: middle;\n",
       "    }\n",
       "\n",
       "    .dataframe tbody tr th {\n",
       "        vertical-align: top;\n",
       "    }\n",
       "\n",
       "    .dataframe thead th {\n",
       "        text-align: right;\n",
       "    }\n",
       "</style>\n",
       "<table border=\"1\" class=\"dataframe\">\n",
       "  <thead>\n",
       "    <tr style=\"text-align: right;\">\n",
       "      <th></th>\n",
       "      <th>Incident Date</th>\n",
       "      <th>State</th>\n",
       "      <th>City Or County</th>\n",
       "      <th>Address</th>\n",
       "      <th># Killed</th>\n",
       "      <th># Injured</th>\n",
       "    </tr>\n",
       "  </thead>\n",
       "  <tbody>\n",
       "    <tr>\n",
       "      <th>0</th>\n",
       "      <td>December 31, 2013</td>\n",
       "      <td>New York</td>\n",
       "      <td>Brooklyn</td>\n",
       "      <td>60 Glenmore Ave</td>\n",
       "      <td>0</td>\n",
       "      <td>6</td>\n",
       "    </tr>\n",
       "    <tr>\n",
       "      <th>1</th>\n",
       "      <td>December 28, 2013</td>\n",
       "      <td>Alabama</td>\n",
       "      <td>Montgomery</td>\n",
       "      <td>954 Highland Ave</td>\n",
       "      <td>3</td>\n",
       "      <td>5</td>\n",
       "    </tr>\n",
       "    <tr>\n",
       "      <th>2</th>\n",
       "      <td>December 26, 2013</td>\n",
       "      <td>Louisiana</td>\n",
       "      <td>Slidell</td>\n",
       "      <td>2144 First St</td>\n",
       "      <td>2</td>\n",
       "      <td>6</td>\n",
       "    </tr>\n",
       "    <tr>\n",
       "      <th>3</th>\n",
       "      <td>December 26, 2013</td>\n",
       "      <td>Louisiana</td>\n",
       "      <td>Lockport</td>\n",
       "      <td>313 Tenth St</td>\n",
       "      <td>3</td>\n",
       "      <td>3</td>\n",
       "    </tr>\n",
       "    <tr>\n",
       "      <th>4</th>\n",
       "      <td>December 25, 2013</td>\n",
       "      <td>New Jersey</td>\n",
       "      <td>Irvington</td>\n",
       "      <td>Nye Avenue and 21st Street</td>\n",
       "      <td>3</td>\n",
       "      <td>2</td>\n",
       "    </tr>\n",
       "  </tbody>\n",
       "</table>\n",
       "</div>"
      ],
      "text/plain": [
       "       Incident Date       State City Or County                     Address  \\\n",
       "0  December 31, 2013    New York       Brooklyn             60 Glenmore Ave   \n",
       "1  December 28, 2013     Alabama     Montgomery            954 Highland Ave   \n",
       "2  December 26, 2013   Louisiana        Slidell               2144 First St   \n",
       "3  December 26, 2013   Louisiana       Lockport                313 Tenth St   \n",
       "4  December 25, 2013  New Jersey      Irvington  Nye Avenue and 21st Street   \n",
       "\n",
       "   # Killed  # Injured  \n",
       "0         0          6  \n",
       "1         3          5  \n",
       "2         2          6  \n",
       "3         3          3  \n",
       "4         3          2  "
      ]
     },
     "execution_count": 36,
     "metadata": {},
     "output_type": "execute_result"
    }
   ],
   "source": [
    "mass.head()"
   ]
  },
  {
   "cell_type": "code",
   "execution_count": 37,
   "metadata": {},
   "outputs": [
    {
     "data": {
      "text/html": [
       "<div>\n",
       "<style scoped>\n",
       "    .dataframe tbody tr th:only-of-type {\n",
       "        vertical-align: middle;\n",
       "    }\n",
       "\n",
       "    .dataframe tbody tr th {\n",
       "        vertical-align: top;\n",
       "    }\n",
       "\n",
       "    .dataframe thead th {\n",
       "        text-align: right;\n",
       "    }\n",
       "</style>\n",
       "<table border=\"1\" class=\"dataframe\">\n",
       "  <thead>\n",
       "    <tr style=\"text-align: right;\">\n",
       "      <th></th>\n",
       "      <th>Unnamed: 0</th>\n",
       "      <th>year</th>\n",
       "      <th>state</th>\n",
       "      <th>population</th>\n",
       "      <th>admin</th>\n",
       "      <th>handgun</th>\n",
       "      <th>long_gun</th>\n",
       "      <th>month</th>\n",
       "      <th>multiple</th>\n",
       "      <th>other</th>\n",
       "      <th>permit</th>\n",
       "      <th>totals</th>\n",
       "    </tr>\n",
       "  </thead>\n",
       "  <tbody>\n",
       "    <tr>\n",
       "      <th>0</th>\n",
       "      <td>0</td>\n",
       "      <td>2013</td>\n",
       "      <td>United States</td>\n",
       "      <td>316234505.0</td>\n",
       "      <td>267.0</td>\n",
       "      <td>881038.0</td>\n",
       "      <td>788328.0</td>\n",
       "      <td>1</td>\n",
       "      <td>31029.0</td>\n",
       "      <td>26137.0</td>\n",
       "      <td>693076.0</td>\n",
       "      <td>2483230.0</td>\n",
       "    </tr>\n",
       "    <tr>\n",
       "      <th>1</th>\n",
       "      <td>1</td>\n",
       "      <td>2013</td>\n",
       "      <td>United States</td>\n",
       "      <td>316234505.0</td>\n",
       "      <td>375.0</td>\n",
       "      <td>770872.0</td>\n",
       "      <td>703223.0</td>\n",
       "      <td>2</td>\n",
       "      <td>31163.0</td>\n",
       "      <td>22709.0</td>\n",
       "      <td>664252.0</td>\n",
       "      <td>2298561.0</td>\n",
       "    </tr>\n",
       "    <tr>\n",
       "      <th>2</th>\n",
       "      <td>2</td>\n",
       "      <td>2013</td>\n",
       "      <td>United States</td>\n",
       "      <td>316234505.0</td>\n",
       "      <td>376.0</td>\n",
       "      <td>683266.0</td>\n",
       "      <td>700873.0</td>\n",
       "      <td>3</td>\n",
       "      <td>23878.0</td>\n",
       "      <td>23817.0</td>\n",
       "      <td>695386.0</td>\n",
       "      <td>2197116.0</td>\n",
       "    </tr>\n",
       "    <tr>\n",
       "      <th>3</th>\n",
       "      <td>3</td>\n",
       "      <td>2013</td>\n",
       "      <td>United States</td>\n",
       "      <td>316234505.0</td>\n",
       "      <td>665.0</td>\n",
       "      <td>533674.0</td>\n",
       "      <td>554003.0</td>\n",
       "      <td>4</td>\n",
       "      <td>18624.0</td>\n",
       "      <td>21136.0</td>\n",
       "      <td>517224.0</td>\n",
       "      <td>1702455.0</td>\n",
       "    </tr>\n",
       "    <tr>\n",
       "      <th>4</th>\n",
       "      <td>4</td>\n",
       "      <td>2013</td>\n",
       "      <td>United States</td>\n",
       "      <td>316234505.0</td>\n",
       "      <td>619.0</td>\n",
       "      <td>445522.0</td>\n",
       "      <td>436674.0</td>\n",
       "      <td>5</td>\n",
       "      <td>16057.0</td>\n",
       "      <td>15605.0</td>\n",
       "      <td>449993.0</td>\n",
       "      <td>1424450.0</td>\n",
       "    </tr>\n",
       "  </tbody>\n",
       "</table>\n",
       "</div>"
      ],
      "text/plain": [
       "   Unnamed: 0  year          state   population  admin   handgun  long_gun  \\\n",
       "0           0  2013  United States  316234505.0  267.0  881038.0  788328.0   \n",
       "1           1  2013  United States  316234505.0  375.0  770872.0  703223.0   \n",
       "2           2  2013  United States  316234505.0  376.0  683266.0  700873.0   \n",
       "3           3  2013  United States  316234505.0  665.0  533674.0  554003.0   \n",
       "4           4  2013  United States  316234505.0  619.0  445522.0  436674.0   \n",
       "\n",
       "   month  multiple    other    permit     totals  \n",
       "0      1   31029.0  26137.0  693076.0  2483230.0  \n",
       "1      2   31163.0  22709.0  664252.0  2298561.0  \n",
       "2      3   23878.0  23817.0  695386.0  2197116.0  \n",
       "3      4   18624.0  21136.0  517224.0  1702455.0  \n",
       "4      5   16057.0  15605.0  449993.0  1424450.0  "
      ]
     },
     "execution_count": 37,
     "metadata": {},
     "output_type": "execute_result"
    }
   ],
   "source": [
    "df.head()"
   ]
  },
  {
   "cell_type": "code",
   "execution_count": 38,
   "metadata": {},
   "outputs": [],
   "source": [
    "mass.columns = ['Date','state','city','Address','killed','injured']"
   ]
  },
  {
   "cell_type": "code",
   "execution_count": 39,
   "metadata": {},
   "outputs": [],
   "source": [
    "df=df.drop('Unnamed: 0',axis=1)"
   ]
  },
  {
   "cell_type": "code",
   "execution_count": 40,
   "metadata": {},
   "outputs": [],
   "source": [
    "mass = mass.drop('Address',axis=1)"
   ]
  },
  {
   "cell_type": "code",
   "execution_count": 41,
   "metadata": {
    "scrolled": true
   },
   "outputs": [],
   "source": [
    "mass['year']=pd.DatetimeIndex(mass['Date']).year"
   ]
  },
  {
   "cell_type": "code",
   "execution_count": 42,
   "metadata": {},
   "outputs": [],
   "source": [
    "mass['month']=pd.DatetimeIndex(mass['Date']).month"
   ]
  },
  {
   "cell_type": "code",
   "execution_count": 43,
   "metadata": {},
   "outputs": [],
   "source": [
    "mass = mass.drop('Date',axis=1)"
   ]
  },
  {
   "cell_type": "code",
   "execution_count": null,
   "metadata": {},
   "outputs": [],
   "source": []
  },
  {
   "cell_type": "markdown",
   "metadata": {},
   "source": []
  }
 ],
 "metadata": {
  "kernelspec": {
   "display_name": "Python [conda env:Anaconda3]",
   "language": "python",
   "name": "conda-env-Anaconda3-py"
  },
  "language_info": {
   "codemirror_mode": {
    "name": "ipython",
    "version": 3
   },
   "file_extension": ".py",
   "mimetype": "text/x-python",
   "name": "python",
   "nbconvert_exporter": "python",
   "pygments_lexer": "ipython3",
   "version": "3.5.4"
  }
 },
 "nbformat": 4,
 "nbformat_minor": 2
}
