{
 "cells": [
  {
   "cell_type": "code",
   "execution_count": 152,
   "metadata": {},
   "outputs": [],
   "source": [
    "# Import libraries\n",
    "import pandas as pd\n",
    "import numpy as np\n",
    "import matplotlib.pyplot as plt\n",
    "import seaborn as sns # for visualiation\n",
    "import scipy\n",
    "from datetime import datetime\n",
    "from sklearn.svm import SVC\n",
    "from sklearn.model_selection import StratifiedKFold\n",
    "from sklearn.feature_selection import RFECV\n",
    "from sklearn.datasets import make_classification\n",
    "import sklearn as sk\n",
    "from sklearn import ensemble\n",
    "from sklearn import metrics\n",
    "from sklearn.neural_network import MLPRegressor\n",
    "import matplotlib.patches as mpatches\n",
    "\n",
    "pd.options.display.max_columns = None\n",
    "%matplotlib inline"
   ]
  },
  {
   "cell_type": "code",
   "execution_count": 154,
   "metadata": {},
   "outputs": [],
   "source": [
    "plt.rcParams[\"figure.figsize\"] = (15,15)\n",
    "sns.set(rc={'figure.figsize':(15,10)})"
   ]
  },
  {
   "cell_type": "code",
   "execution_count": 126,
   "metadata": {},
   "outputs": [],
   "source": [
    "overall = pd.read_csv('./data/shootings_and_sales_per_pop.csv')"
   ]
  },
  {
   "cell_type": "code",
   "execution_count": 127,
   "metadata": {},
   "outputs": [
    {
     "data": {
      "text/html": [
       "<div>\n",
       "<style scoped>\n",
       "    .dataframe tbody tr th:only-of-type {\n",
       "        vertical-align: middle;\n",
       "    }\n",
       "\n",
       "    .dataframe tbody tr th {\n",
       "        vertical-align: top;\n",
       "    }\n",
       "\n",
       "    .dataframe thead th {\n",
       "        text-align: right;\n",
       "    }\n",
       "</style>\n",
       "<table border=\"1\" class=\"dataframe\">\n",
       "  <thead>\n",
       "    <tr style=\"text-align: right;\">\n",
       "      <th></th>\n",
       "      <th>year</th>\n",
       "      <th>state</th>\n",
       "      <th>population</th>\n",
       "      <th>admin</th>\n",
       "      <th>handgun</th>\n",
       "      <th>long_gun</th>\n",
       "      <th>month</th>\n",
       "      <th>multiple</th>\n",
       "      <th>other</th>\n",
       "      <th>permit</th>\n",
       "      <th>totals</th>\n",
       "      <th>killed</th>\n",
       "      <th>killed_max</th>\n",
       "      <th>injured</th>\n",
       "      <th>incidents</th>\n",
       "      <th>injured_max</th>\n",
       "      <th>affected_max</th>\n",
       "      <th>affected_over_10</th>\n",
       "      <th>killed_ave</th>\n",
       "      <th>injured_ave</th>\n",
       "      <th>admin_pop</th>\n",
       "      <th>handgun_pop</th>\n",
       "      <th>long_gun_pop</th>\n",
       "      <th>multiple_pop</th>\n",
       "      <th>other_pop</th>\n",
       "      <th>permit_pop</th>\n",
       "      <th>totals_pop</th>\n",
       "      <th>killed_pop</th>\n",
       "      <th>injured_pop</th>\n",
       "      <th>incidents_pop</th>\n",
       "    </tr>\n",
       "  </thead>\n",
       "  <tbody>\n",
       "    <tr>\n",
       "      <th>0</th>\n",
       "      <td>2013</td>\n",
       "      <td>United States</td>\n",
       "      <td>316234505.0</td>\n",
       "      <td>267.0</td>\n",
       "      <td>881038.0</td>\n",
       "      <td>788328.0</td>\n",
       "      <td>1</td>\n",
       "      <td>31029.0</td>\n",
       "      <td>26137.0</td>\n",
       "      <td>693076.0</td>\n",
       "      <td>2483230.0</td>\n",
       "      <td>16.0</td>\n",
       "      <td>5.0</td>\n",
       "      <td>39.0</td>\n",
       "      <td>12.0</td>\n",
       "      <td>6.0</td>\n",
       "      <td>7.0</td>\n",
       "      <td>0.0</td>\n",
       "      <td>1.333333</td>\n",
       "      <td>3.250000</td>\n",
       "      <td>0.084431</td>\n",
       "      <td>278.602741</td>\n",
       "      <td>249.285890</td>\n",
       "      <td>9.812022</td>\n",
       "      <td>8.265069</td>\n",
       "      <td>219.165205</td>\n",
       "      <td>785.249541</td>\n",
       "      <td>0.005060</td>\n",
       "      <td>0.012333</td>\n",
       "      <td>0.003795</td>\n",
       "    </tr>\n",
       "    <tr>\n",
       "      <th>1</th>\n",
       "      <td>2013</td>\n",
       "      <td>United States</td>\n",
       "      <td>316234505.0</td>\n",
       "      <td>375.0</td>\n",
       "      <td>770872.0</td>\n",
       "      <td>703223.0</td>\n",
       "      <td>2</td>\n",
       "      <td>31163.0</td>\n",
       "      <td>22709.0</td>\n",
       "      <td>664252.0</td>\n",
       "      <td>2298561.0</td>\n",
       "      <td>14.0</td>\n",
       "      <td>4.0</td>\n",
       "      <td>45.0</td>\n",
       "      <td>12.0</td>\n",
       "      <td>8.0</td>\n",
       "      <td>8.0</td>\n",
       "      <td>0.0</td>\n",
       "      <td>1.166667</td>\n",
       "      <td>3.750000</td>\n",
       "      <td>0.118583</td>\n",
       "      <td>243.765936</td>\n",
       "      <td>222.373899</td>\n",
       "      <td>9.854396</td>\n",
       "      <td>7.181063</td>\n",
       "      <td>210.050450</td>\n",
       "      <td>726.853320</td>\n",
       "      <td>0.004427</td>\n",
       "      <td>0.014230</td>\n",
       "      <td>0.003795</td>\n",
       "    </tr>\n",
       "    <tr>\n",
       "      <th>2</th>\n",
       "      <td>2013</td>\n",
       "      <td>United States</td>\n",
       "      <td>316234505.0</td>\n",
       "      <td>376.0</td>\n",
       "      <td>683266.0</td>\n",
       "      <td>700873.0</td>\n",
       "      <td>3</td>\n",
       "      <td>23878.0</td>\n",
       "      <td>23817.0</td>\n",
       "      <td>695386.0</td>\n",
       "      <td>2197116.0</td>\n",
       "      <td>25.0</td>\n",
       "      <td>6.0</td>\n",
       "      <td>75.0</td>\n",
       "      <td>19.0</td>\n",
       "      <td>13.0</td>\n",
       "      <td>13.0</td>\n",
       "      <td>1.0</td>\n",
       "      <td>1.315789</td>\n",
       "      <td>3.947368</td>\n",
       "      <td>0.118899</td>\n",
       "      <td>216.063076</td>\n",
       "      <td>221.630780</td>\n",
       "      <td>7.550726</td>\n",
       "      <td>7.531436</td>\n",
       "      <td>219.895675</td>\n",
       "      <td>694.774278</td>\n",
       "      <td>0.007906</td>\n",
       "      <td>0.023717</td>\n",
       "      <td>0.006008</td>\n",
       "    </tr>\n",
       "    <tr>\n",
       "      <th>3</th>\n",
       "      <td>2013</td>\n",
       "      <td>United States</td>\n",
       "      <td>316234505.0</td>\n",
       "      <td>665.0</td>\n",
       "      <td>533674.0</td>\n",
       "      <td>554003.0</td>\n",
       "      <td>4</td>\n",
       "      <td>18624.0</td>\n",
       "      <td>21136.0</td>\n",
       "      <td>517224.0</td>\n",
       "      <td>1702455.0</td>\n",
       "      <td>26.0</td>\n",
       "      <td>6.0</td>\n",
       "      <td>52.0</td>\n",
       "      <td>17.0</td>\n",
       "      <td>5.0</td>\n",
       "      <td>7.0</td>\n",
       "      <td>0.0</td>\n",
       "      <td>1.529412</td>\n",
       "      <td>3.058824</td>\n",
       "      <td>0.210287</td>\n",
       "      <td>168.758940</td>\n",
       "      <td>175.187398</td>\n",
       "      <td>5.889300</td>\n",
       "      <td>6.683648</td>\n",
       "      <td>163.557105</td>\n",
       "      <td>538.352069</td>\n",
       "      <td>0.008222</td>\n",
       "      <td>0.016443</td>\n",
       "      <td>0.005376</td>\n",
       "    </tr>\n",
       "    <tr>\n",
       "      <th>4</th>\n",
       "      <td>2013</td>\n",
       "      <td>United States</td>\n",
       "      <td>316234505.0</td>\n",
       "      <td>619.0</td>\n",
       "      <td>445522.0</td>\n",
       "      <td>436674.0</td>\n",
       "      <td>5</td>\n",
       "      <td>16057.0</td>\n",
       "      <td>15605.0</td>\n",
       "      <td>449993.0</td>\n",
       "      <td>1424450.0</td>\n",
       "      <td>18.0</td>\n",
       "      <td>5.0</td>\n",
       "      <td>99.0</td>\n",
       "      <td>24.0</td>\n",
       "      <td>19.0</td>\n",
       "      <td>19.0</td>\n",
       "      <td>1.0</td>\n",
       "      <td>0.750000</td>\n",
       "      <td>4.125000</td>\n",
       "      <td>0.195741</td>\n",
       "      <td>140.883424</td>\n",
       "      <td>138.085501</td>\n",
       "      <td>5.077561</td>\n",
       "      <td>4.934629</td>\n",
       "      <td>142.297249</td>\n",
       "      <td>450.441042</td>\n",
       "      <td>0.005692</td>\n",
       "      <td>0.031306</td>\n",
       "      <td>0.007589</td>\n",
       "    </tr>\n",
       "  </tbody>\n",
       "</table>\n",
       "</div>"
      ],
      "text/plain": [
       "   year          state   population  admin   handgun  long_gun  month  \\\n",
       "0  2013  United States  316234505.0  267.0  881038.0  788328.0      1   \n",
       "1  2013  United States  316234505.0  375.0  770872.0  703223.0      2   \n",
       "2  2013  United States  316234505.0  376.0  683266.0  700873.0      3   \n",
       "3  2013  United States  316234505.0  665.0  533674.0  554003.0      4   \n",
       "4  2013  United States  316234505.0  619.0  445522.0  436674.0      5   \n",
       "\n",
       "   multiple    other    permit     totals  killed  killed_max  injured  \\\n",
       "0   31029.0  26137.0  693076.0  2483230.0    16.0         5.0     39.0   \n",
       "1   31163.0  22709.0  664252.0  2298561.0    14.0         4.0     45.0   \n",
       "2   23878.0  23817.0  695386.0  2197116.0    25.0         6.0     75.0   \n",
       "3   18624.0  21136.0  517224.0  1702455.0    26.0         6.0     52.0   \n",
       "4   16057.0  15605.0  449993.0  1424450.0    18.0         5.0     99.0   \n",
       "\n",
       "   incidents  injured_max  affected_max  affected_over_10  killed_ave  \\\n",
       "0       12.0          6.0           7.0               0.0    1.333333   \n",
       "1       12.0          8.0           8.0               0.0    1.166667   \n",
       "2       19.0         13.0          13.0               1.0    1.315789   \n",
       "3       17.0          5.0           7.0               0.0    1.529412   \n",
       "4       24.0         19.0          19.0               1.0    0.750000   \n",
       "\n",
       "   injured_ave  admin_pop  handgun_pop  long_gun_pop  multiple_pop  other_pop  \\\n",
       "0     3.250000   0.084431   278.602741    249.285890      9.812022   8.265069   \n",
       "1     3.750000   0.118583   243.765936    222.373899      9.854396   7.181063   \n",
       "2     3.947368   0.118899   216.063076    221.630780      7.550726   7.531436   \n",
       "3     3.058824   0.210287   168.758940    175.187398      5.889300   6.683648   \n",
       "4     4.125000   0.195741   140.883424    138.085501      5.077561   4.934629   \n",
       "\n",
       "   permit_pop  totals_pop  killed_pop  injured_pop  incidents_pop  \n",
       "0  219.165205  785.249541    0.005060     0.012333       0.003795  \n",
       "1  210.050450  726.853320    0.004427     0.014230       0.003795  \n",
       "2  219.895675  694.774278    0.007906     0.023717       0.006008  \n",
       "3  163.557105  538.352069    0.008222     0.016443       0.005376  \n",
       "4  142.297249  450.441042    0.005692     0.031306       0.007589  "
      ]
     },
     "execution_count": 127,
     "metadata": {},
     "output_type": "execute_result"
    }
   ],
   "source": [
    "overall.head()"
   ]
  },
  {
   "cell_type": "code",
   "execution_count": 128,
   "metadata": {},
   "outputs": [],
   "source": [
    "df = overall[overall.state!='United States']"
   ]
  },
  {
   "cell_type": "code",
   "execution_count": 129,
   "metadata": {},
   "outputs": [],
   "source": [
    "training = ['year','population','month',\n",
    "            'killed','state',\n",
    "            'killed_max','injured','incidents',\n",
    "            'injured_max','affected_max','affected_over_10',\n",
    "            'killed_ave','injured_ave',\n",
    "            'killed_pop','injured_pop','incidents_pop']\n",
    "testing = ['totals_pop']\n",
    "# 'admin_pop',\n",
    "#             'handgun_pop','long_gun_pop','multiple_pop',\n",
    "#             'other_pop','permit_pop',"
   ]
  },
  {
   "cell_type": "code",
   "execution_count": 130,
   "metadata": {},
   "outputs": [
    {
     "name": "stderr",
     "output_type": "stream",
     "text": [
      "/Users/Elias/anaconda3/lib/python3.6/site-packages/pandas/core/generic.py:4401: SettingWithCopyWarning: \n",
      "A value is trying to be set on a copy of a slice from a DataFrame.\n",
      "Try using .loc[row_indexer,col_indexer] = value instead\n",
      "\n",
      "See the caveats in the documentation: http://pandas.pydata.org/pandas-docs/stable/indexing.html#indexing-view-versus-copy\n",
      "  self[name] = value\n"
     ]
    }
   ],
   "source": [
    "le = sk.preprocessing.LabelEncoder()\n",
    "le.fit(df.state)\n",
    "df.state = le.transform(df.state)"
   ]
  },
  {
   "cell_type": "code",
   "execution_count": 131,
   "metadata": {},
   "outputs": [
    {
     "name": "stderr",
     "output_type": "stream",
     "text": [
      "/Users/Elias/anaconda3/lib/python3.6/site-packages/pandas/core/generic.py:4401: SettingWithCopyWarning: \n",
      "A value is trying to be set on a copy of a slice from a DataFrame.\n",
      "Try using .loc[row_indexer,col_indexer] = value instead\n",
      "\n",
      "See the caveats in the documentation: http://pandas.pydata.org/pandas-docs/stable/indexing.html#indexing-view-versus-copy\n",
      "  self[name] = value\n"
     ]
    }
   ],
   "source": [
    "df.totals_pop = df.totals_pop.apply(lambda x:int(x))\n",
    "\n",
    "train = sk.preprocessing.scale(df[training])"
   ]
  },
  {
   "cell_type": "code",
   "execution_count": 132,
   "metadata": {},
   "outputs": [
    {
     "name": "stderr",
     "output_type": "stream",
     "text": [
      "/Users/Elias/anaconda3/lib/python3.6/site-packages/sklearn/model_selection/_split.py:2026: FutureWarning: From version 0.21, test_size will always complement train_size unless both are specified.\n",
      "  FutureWarning)\n",
      "/Users/Elias/anaconda3/lib/python3.6/site-packages/sklearn/model_selection/_split.py:605: Warning: The least populated class in y has only 1 members, which is too few. The minimum number of members in any class cannot be less than n_splits=10.\n",
      "  % (min_groups, self.n_splits)), Warning)\n"
     ]
    },
    {
     "name": "stdout",
     "output_type": "stream",
     "text": [
      "Optimal number of features : 10\n"
     ]
    },
    {
     "data": {
      "image/png": "[encoded data removed]",
      "text/plain": [
       "<Figure size 432x288 with 1 Axes>"
      ]
     },
     "metadata": {},
     "output_type": "display_data"
    }
   ],
   "source": [
    "# Build a classification task using 3 informative features\n",
    "X_train, X_test, y_train, y_test  = sk.model_selection.train_test_split(train,df[testing],train_size=.8,random_state=10)\n",
    "\n",
    "# Create the RFE object and compute a cross-validated score.\n",
    "svr = sk.svm.SVR(kernel='linear')\n",
    "# The \"accuracy\" scoring is proportional to the number of correct\n",
    "# classifications\n",
    "rfecv = RFECV(estimator=svr, step=1, cv=StratifiedKFold(10),\n",
    "              scoring='neg_mean_squared_error')\n",
    "y_train = y_train.values.ravel()\n",
    "y_test = y_test.values.ravel()\n",
    "rfecv.fit(X_train, y_train)\n",
    "\n",
    "print(\"Optimal number of features : %d\" % rfecv.n_features_)\n",
    "\n",
    "# Plot number of features VS. cross-validation scores\n",
    "plt.figure()\n",
    "plt.xlabel(\"Number of features selected\")\n",
    "plt.ylabel(\"Cross validation(5) score (neg_mean_squared_error)\")\n",
    "plt.plot(range(1, len(rfecv.grid_scores_) + 1), rfecv.grid_scores_)\n",
    "plt.show()"
   ]
  },
  {
   "cell_type": "code",
   "execution_count": 133,
   "metadata": {},
   "outputs": [
    {
     "data": {
      "text/plain": [
       "array([1, 1, 1, 3, 1, 6, 1, 1, 2, 5, 7, 4, 1, 1, 1, 1])"
      ]
     },
     "execution_count": 133,
     "metadata": {},
     "output_type": "execute_result"
    }
   ],
   "source": [
    "rfecv.ranking_"
   ]
  },
  {
   "cell_type": "code",
   "execution_count": 134,
   "metadata": {},
   "outputs": [],
   "source": [
    "ranked = rfecv.ranking_.copy()\n"
   ]
  },
  {
   "cell_type": "code",
   "execution_count": 135,
   "metadata": {},
   "outputs": [],
   "source": [
    "ranked[ranked==1]=True\n",
    "ranked[ranked!=True]=False"
   ]
  },
  {
   "cell_type": "code",
   "execution_count": 136,
   "metadata": {},
   "outputs": [],
   "source": [
    "features = []\n",
    "for t,r in zip(training,ranked):\n",
    "    if(r):\n",
    "        features.append(t)"
   ]
  },
  {
   "cell_type": "code",
   "execution_count": 137,
   "metadata": {},
   "outputs": [
    {
     "data": {
      "text/plain": [
       "['year',\n",
       " 'population',\n",
       " 'month',\n",
       " 'state',\n",
       " 'injured',\n",
       " 'incidents',\n",
       " 'injured_ave',\n",
       " 'killed_pop',\n",
       " 'injured_pop',\n",
       " 'incidents_pop']"
      ]
     },
     "execution_count": 137,
     "metadata": {},
     "output_type": "execute_result"
    }
   ],
   "source": [
    "features"
   ]
  },
  {
   "cell_type": "code",
   "execution_count": 158,
   "metadata": {},
   "outputs": [],
   "source": [
    "rf = ensemble.RandomForestRegressor()\n",
    "gb = ensemble.GradientBoostingRegressor()\n",
    "svr = sk.svm.SVR()\n",
    "knn = sk.neighbors.KNeighborsRegressor()\n",
    "mlp = sk.neural_network.MLPRegressor(max_iter=2000,solver='lbfgs')\n"
   ]
  },
  {
   "cell_type": "code",
   "execution_count": 159,
   "metadata": {},
   "outputs": [
    {
     "name": "stderr",
     "output_type": "stream",
     "text": [
      "/Users/Elias/anaconda3/lib/python3.6/site-packages/sklearn/model_selection/_split.py:2026: FutureWarning: From version 0.21, test_size will always complement train_size unless both are specified.\n",
      "  FutureWarning)\n"
     ]
    }
   ],
   "source": [
    "train = sk.preprocessing.scale(df[features])\n",
    "X_train, X_test, y_train, y_test  = sk.model_selection.train_test_split(train,df[testing],train_size=.8,random_state=10)\n",
    "\n",
    "\n",
    "y_train = y_train.values.ravel()\n",
    "y_test = y_test.values.ravel()\n",
    "\n",
    "\n",
    "modelnames = ['random_forest','gradient_booster','support_vector_regression','knn','multi_layer_perceptron']\n",
    "\n",
    "df_results = pd.DataFrame(data = {'model':modelnames,'mse':0,'mse_err':0})\n",
    "\n",
    "\n",
    "models =[rf,gb,svr,knn,mlp]\n",
    "i = 0\n",
    "\n",
    "num_iters = 10\n",
    "\n",
    "for model in models:\n",
    "    \n",
    "    mse = []\n",
    "    \n",
    "    for k in range(num_iters):\n",
    "        model.fit(X_train,y_train)\n",
    "        y_pred =  model.predict(X_test)\n",
    "        mse.append(metrics.mean_squared_error(y_test,y_pred))\n",
    "        \n",
    "    \n",
    "    \n",
    "    for mname,mdata in zip(['mse'],[mse]):\n",
    "        \n",
    "        err_name = \"{}_err\".format(mname)\n",
    "        ave = np.mean(mdata)\n",
    "        df_results.loc[i,mname] = ave\n",
    "        df_results.loc[i,err_name] = np.std(mdata) / np.sqrt(len(mdata))\n",
    "    \n",
    "    i+=1"
   ]
  },
  {
   "cell_type": "code",
   "execution_count": 160,
   "metadata": {},
   "outputs": [
    {
     "data": {
      "text/html": [
       "<div>\n",
       "<style scoped>\n",
       "    .dataframe tbody tr th:only-of-type {\n",
       "        vertical-align: middle;\n",
       "    }\n",
       "\n",
       "    .dataframe tbody tr th {\n",
       "        vertical-align: top;\n",
       "    }\n",
       "\n",
       "    .dataframe thead th {\n",
       "        text-align: right;\n",
       "    }\n",
       "</style>\n",
       "<table border=\"1\" class=\"dataframe\">\n",
       "  <thead>\n",
       "    <tr style=\"text-align: right;\">\n",
       "      <th></th>\n",
       "      <th>model</th>\n",
       "      <th>mse</th>\n",
       "      <th>mse_err</th>\n",
       "    </tr>\n",
       "  </thead>\n",
       "  <tbody>\n",
       "    <tr>\n",
       "      <th>0</th>\n",
       "      <td>random_forest</td>\n",
       "      <td>59215.622281</td>\n",
       "      <td>2.786046e+03</td>\n",
       "    </tr>\n",
       "    <tr>\n",
       "      <th>1</th>\n",
       "      <td>gradient_booster</td>\n",
       "      <td>88715.785233</td>\n",
       "      <td>3.381211e+01</td>\n",
       "    </tr>\n",
       "    <tr>\n",
       "      <th>2</th>\n",
       "      <td>support_vector_regression</td>\n",
       "      <td>493640.136304</td>\n",
       "      <td>0.000000e+00</td>\n",
       "    </tr>\n",
       "    <tr>\n",
       "      <th>3</th>\n",
       "      <td>knn</td>\n",
       "      <td>502383.548562</td>\n",
       "      <td>1.840688e-11</td>\n",
       "    </tr>\n",
       "    <tr>\n",
       "      <th>4</th>\n",
       "      <td>multi_layer_perceptron</td>\n",
       "      <td>312052.875981</td>\n",
       "      <td>6.591873e+04</td>\n",
       "    </tr>\n",
       "  </tbody>\n",
       "</table>\n",
       "</div>"
      ],
      "text/plain": [
       "                       model            mse       mse_err\n",
       "0              random_forest   59215.622281  2.786046e+03\n",
       "1           gradient_booster   88715.785233  3.381211e+01\n",
       "2  support_vector_regression  493640.136304  0.000000e+00\n",
       "3                        knn  502383.548562  1.840688e-11\n",
       "4     multi_layer_perceptron  312052.875981  6.591873e+04"
      ]
     },
     "execution_count": 160,
     "metadata": {},
     "output_type": "execute_result"
    }
   ],
   "source": [
    "df_results"
   ]
  },
  {
   "cell_type": "code",
   "execution_count": 162,
   "metadata": {},
   "outputs": [
    {
     "data": {
      "text/plain": [
       "<matplotlib.legend.Legend at 0x1a1be35358>"
      ]
     },
     "execution_count": 162,
     "metadata": {},
     "output_type": "execute_result"
    },
    {
     "data": {
      "image/png": "[encoded data removed]",
      "text/plain": [
       "<Figure size 1080x720 with 1 Axes>"
      ]
     },
     "metadata": {},
     "output_type": "display_data"
    }
   ],
   "source": [
    "colors = ['#FCCE00','#0375B4','#007849','#262228']\n",
    "colors = ['#0E0B16','#A239CA','#4717F6','#E7DFDD']\n",
    "colors = ['#008DAB','#FCE700','#E81D64','#4A4A4A']\n",
    "\n",
    "\n",
    "bigfont = 20\n",
    "smallfont = 14\n",
    "model_names = ['random_forest','gradient_booster','support_vector_regression','knn','multilayer_perceptron']\n",
    "score_names = ['mse']\n",
    "\n",
    "patches = []\n",
    "for model_name,color in zip(model_names,colors):\n",
    "    patches.append(mpatches.Patch(color=color, label=model_name))\n",
    "\n",
    "\n",
    "\n",
    "plt.bar(modelnames,df_results.loc[:,'mse'],yerr=df_results.loc[:,'mse_err'],color=colors)\n",
    "#plt.xticks(np.arange(4),model_names,rotation=90,fontsize=smallfont)\n",
    "\n",
    "plt.title(score_names,fontsize=bigfont,position=(0.5,1.05))\n",
    "\n",
    "plt.legend(handles=patches,fontsize=bigfont)\n",
    "#plt.savefig('initial_model_compare.png',dpi=500,format='png')"
   ]
  },
  {
   "cell_type": "code",
   "execution_count": null,
   "metadata": {},
   "outputs": [],
   "source": []
  }
 ],
 "metadata": {
  "kernelspec": {
   "display_name": "Python 3",
   "language": "python",
   "name": "python3"
  },
  "language_info": {
   "codemirror_mode": {
    "name": "ipython",
    "version": 3
   },
   "file_extension": ".py",
   "mimetype": "text/x-python",
   "name": "python",
   "nbconvert_exporter": "python",
   "pygments_lexer": "ipython3",
   "version": "3.6.5"
  }
 },
 "nbformat": 4,
 "nbformat_minor": 2
}
