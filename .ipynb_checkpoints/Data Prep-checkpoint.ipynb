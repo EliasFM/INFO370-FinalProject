{
 "cells": [
  {
   "cell_type": "code",
   "execution_count": 3,
   "metadata": {},
   "outputs": [],
   "source": [
    "# Import libraries\n",
    "import pandas as pd\n",
    "import numpy as np\n",
    "import matplotlib.pyplot as plt\n",
    "import seaborn as sns # for visualiation"
   ]
  },
  {
   "cell_type": "code",
   "execution_count": 55,
   "metadata": {},
   "outputs": [
    {
     "data": {
      "text/plain": [
       "Index(['month', 'state', 'permit', 'permit_recheck', 'handgun', 'long_gun',\n",
       "       'other', 'multiple', 'admin', 'prepawn_handgun', 'prepawn_long_gun',\n",
       "       'prepawn_other', 'redemption_handgun', 'redemption_long_gun',\n",
       "       'redemption_other', 'returned_handgun', 'returned_long_gun',\n",
       "       'returned_other', 'rentals_handgun', 'rentals_long_gun',\n",
       "       'private_sale_handgun', 'private_sale_long_gun', 'private_sale_other',\n",
       "       'return_to_seller_handgun', 'return_to_seller_long_gun',\n",
       "       'return_to_seller_other', 'totals'],\n",
       "      dtype='object')"
      ]
     },
     "execution_count": 55,
     "metadata": {},
     "output_type": "execute_result"
    }
   ],
   "source": [
    "# data_2018 = pd.read_csv('./data/Mass_shooting_data_from_2013-18/mass_shooting_2018_us.csv')\n",
    "# data_2017 = pd.read_csv('./data/Mass_shooting_data_from_2013-18/mass_shooting_2017_us.csv')\n",
    "# data_2016 = pd.read_csv('./data/Mass_shooting_data_from_2013-18/mass_shooting_2016_us.csv')\n",
    "# data_2015 = pd.read_csv('./data/Mass_shooting_data_from_2013-18/mass_shooting_2015_us.csv')\n",
    "# data_2014 = pd.read_csv('./data/Mass_shooting_data_from_2013-18/mass_shooting_2014_us.csv')\n",
    "# data_2013 = pd.read_csv('./data/Mass_shooting_data_from_2013-18/mass_shooting_2013_us.csv')\n",
    "\n",
    "# # combine all mass shooting data from 2013 - 18\n",
    "# m_shooting_combined_13_18 = pd.concat([data_2013,data_2014, data_2015,data_2016,data_2017,data_2018], ignore_index=True)\n",
    "# m_shooting_combined_13_18.to_csv(\"./data/mass_shooting_data_13_18.csv\", index=False)\n",
    "\n",
    "# nics firearms background check\n",
    "background_check_data_fbi = pd.read_csv('./data/nics-firearm-background-check.csv')\n",
    "\n",
    "# combined mass shooting data from 13-18\n",
    "mass_shoot_13_18 = pd.read_csv('./data/mass_shooting_data_13_18.csv')\n",
    "\n",
    "# crime guns and population\n",
    "crime_guns_and_pop = pd.read_csv('./data/Crime_Guns_and_Population.csv')\n",
    "\n",
    "# guns by population\n",
    "guns_by_pop = pd.read_csv('./data/Guns_by_Pop.csv')\n",
    "\n",
    "# Mass shooting from mother jones foundation\n",
    "mass_shooting_mother_jones = pd.read_csv('./data/Mother Jones - Mass Shootings Database, 1982 - 2018 - Sheet1.csv')\n",
    "background_check_data_fbi\n"
   ]
  },
  {
   "cell_type": "code",
   "execution_count": 41,
   "metadata": {},
   "outputs": [
    {
     "data": {
      "text/plain": [
       "(51, 3)"
      ]
     },
     "execution_count": 41,
     "metadata": {},
     "output_type": "execute_result"
    }
   ],
   "source": [
    "guns_by_pop.shape"
   ]
  },
  {
   "cell_type": "code",
   "execution_count": 42,
   "metadata": {},
   "outputs": [
    {
     "data": {
      "text/plain": [
       "(51, 3)"
      ]
     },
     "execution_count": 42,
     "metadata": {},
     "output_type": "execute_result"
    }
   ],
   "source": [
    "guns_by_population.shape"
   ]
  },
  {
   "cell_type": "code",
   "execution_count": 45,
   "metadata": {},
   "outputs": [
    {
     "data": {
      "text/plain": [
       "(107, 24)"
      ]
     },
     "execution_count": 45,
     "metadata": {},
     "output_type": "execute_result"
    }
   ],
   "source": [
    "mass_shooting_mother_jones.shape"
   ]
  },
  {
   "cell_type": "code",
   "execution_count": 47,
   "metadata": {},
   "outputs": [
    {
     "data": {
      "text/plain": [
       "(12826, 27)"
      ]
     },
     "execution_count": 47,
     "metadata": {},
     "output_type": "execute_result"
    }
   ],
   "source": [
    "background_check_data_fbi.shape"
   ]
  },
  {
   "cell_type": "code",
   "execution_count": 48,
   "metadata": {},
   "outputs": [
    {
     "data": {
      "text/plain": [
       "(1906, 7)"
      ]
     },
     "execution_count": 48,
     "metadata": {},
     "output_type": "execute_result"
    }
   ],
   "source": [
    "mass_shoot_13_18.shape"
   ]
  }
 ],
 "metadata": {
  "kernelspec": {
   "display_name": "Python 3",
   "language": "python",
   "name": "python3"
  },
  "language_info": {
   "codemirror_mode": {
    "name": "ipython",
    "version": 3
   },
   "file_extension": ".py",
   "mimetype": "text/x-python",
   "name": "python",
   "nbconvert_exporter": "python",
   "pygments_lexer": "ipython3",
   "version": "3.7.0"
  }
 },
 "nbformat": 4,
 "nbformat_minor": 2
}
